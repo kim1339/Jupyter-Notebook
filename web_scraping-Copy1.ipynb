{
 "cells": [
  {
   "cell_type": "code",
   "execution_count": 1,
   "metadata": {},
   "outputs": [
    {
     "name": "stdout",
     "output_type": "stream",
     "text": [
      "<Response [200]>\n",
      "200\n"
     ]
    }
   ],
   "source": [
    "# web scraping gets data from a web page in a format that we can work with\n",
    "import requests\n",
    "web_page = requests.get('http://dataquestio.github.io/web-scraping-pages/simple.html')\n",
    "print(web_page)\n",
    "print(web_page.status_code)\n",
    "#a status code that starts with 2  is supposedly successful"
   ]
  },
  {
   "cell_type": "code",
   "execution_count": 2,
   "metadata": {},
   "outputs": [
    {
     "data": {
      "text/plain": [
       "b'<!DOCTYPE html>\\n<html>\\n    <head>\\n        <title>A simple example page</title>\\n    </head>\\n    <body>\\n        <p>Here is some simple content for this page.</p>\\n    </body>\\n</html>'"
      ]
     },
     "execution_count": 2,
     "metadata": {},
     "output_type": "execute_result"
    }
   ],
   "source": [
    "#prints the HTML script\n",
    "web_page.content"
   ]
  },
  {
   "cell_type": "code",
   "execution_count": 3,
   "metadata": {},
   "outputs": [],
   "source": [
    "#using BeautifulSoup library to parse data\n",
    "from bs4 import BeautifulSoup"
   ]
  },
  {
   "cell_type": "code",
   "execution_count": 4,
   "metadata": {},
   "outputs": [
    {
     "data": {
      "text/plain": [
       "<!DOCTYPE html>\n",
       "\n",
       "<html>\n",
       "<head>\n",
       "<title>A simple example page</title>\n",
       "</head>\n",
       "<body>\n",
       "<p>Here is some simple content for this page.</p>\n",
       "</body>\n",
       "</html>"
      ]
     },
     "execution_count": 4,
     "metadata": {},
     "output_type": "execute_result"
    }
   ],
   "source": [
    "soupified = BeautifulSoup(web_page.content,'html.parser')\n",
    "soupified"
   ]
  },
  {
   "cell_type": "code",
   "execution_count": 5,
   "metadata": {},
   "outputs": [
    {
     "data": {
      "text/plain": [
       "['html', '\\n', <html>\n",
       " <head>\n",
       " <title>A simple example page</title>\n",
       " </head>\n",
       " <body>\n",
       " <p>Here is some simple content for this page.</p>\n",
       " </body>\n",
       " </html>]"
      ]
     },
     "execution_count": 5,
     "metadata": {},
     "output_type": "execute_result"
    }
   ],
   "source": [
    "list(soupified.children)"
   ]
  },
  {
   "cell_type": "code",
   "execution_count": 6,
   "metadata": {},
   "outputs": [
    {
     "name": "stdout",
     "output_type": "stream",
     "text": [
      "<class 'bs4.element.Doctype'>\n",
      "<class 'bs4.element.NavigableString'>\n",
      "<class 'bs4.element.Tag'>\n"
     ]
    }
   ],
   "source": [
    "for item in list(soupified.children):\n",
    "    print(type(item))"
   ]
  },
  {
   "cell_type": "code",
   "execution_count": 7,
   "metadata": {},
   "outputs": [
    {
     "data": {
      "text/plain": [
       "'Here is some simple content for this page.'"
      ]
     },
     "execution_count": 7,
     "metadata": {},
     "output_type": "execute_result"
    }
   ],
   "source": [
    "#you have to index it since the find_all function creates a list\n",
    "soupified.find_all('p')[0].get_text()"
   ]
  },
  {
   "cell_type": "code",
   "execution_count": 8,
   "metadata": {},
   "outputs": [
    {
     "data": {
      "text/plain": [
       "<html>\n",
       "<head>\n",
       "<title>A simple example page</title>\n",
       "</head>\n",
       "<body>\n",
       "<div>\n",
       "<p class=\"inner-text first-item\" id=\"first\">\n",
       "                First paragraph.\n",
       "            </p>\n",
       "<p class=\"inner-text\">\n",
       "                Second paragraph.\n",
       "            </p>\n",
       "</div>\n",
       "<p class=\"outer-text first-item\" id=\"second\">\n",
       "<b>\n",
       "                First outer paragraph.\n",
       "            </b>\n",
       "</p>\n",
       "<p class=\"outer-text\">\n",
       "<b>\n",
       "                Second outer paragraph.\n",
       "            </b>\n",
       "</p>\n",
       "</body>\n",
       "</html>"
      ]
     },
     "execution_count": 8,
     "metadata": {},
     "output_type": "execute_result"
    }
   ],
   "source": [
    "web_page_2 = requests.get('http://dataquestio.github.io/web-scraping-pages/ids_and_classes.html')\n",
    "soupified_2 = BeautifulSoup(web_page_2.content, 'html.parser')\n",
    "soupified_2"
   ]
  },
  {
   "cell_type": "code",
   "execution_count": 9,
   "metadata": {},
   "outputs": [
    {
     "data": {
      "text/plain": [
       "'A simple example page'"
      ]
     },
     "execution_count": 9,
     "metadata": {},
     "output_type": "execute_result"
    }
   ],
   "source": [
    "soupified.find_all('title')[0].get_text()"
   ]
  },
  {
   "cell_type": "code",
   "execution_count": 10,
   "metadata": {},
   "outputs": [
    {
     "data": {
      "text/plain": [
       "<div class=\"panel panel-default\" id=\"seven-day-forecast\">\n",
       "<div class=\"panel-heading\">\n",
       "<b>Extended Forecast for</b>\n",
       "<h2 class=\"panel-title\">\n",
       "\t    \t    San Francisco CA\t</h2>\n",
       "</div>\n",
       "<div class=\"panel-body\" id=\"seven-day-forecast-body\">\n",
       "<div id=\"seven-day-forecast-container\"><ul class=\"list-unstyled\" id=\"seven-day-forecast-list\"><li class=\"forecast-tombstone\">\n",
       "<div class=\"tombstone-container\">\n",
       "<p class=\"period-name\">Today<br/><br/></p>\n",
       "<p><img alt=\"Today: Showers.  High near 61. Southwest wind around 14 mph.  Chance of precipitation is 80%. New precipitation amounts of less than a tenth of an inch possible. \" class=\"forecast-icon\" src=\"newimages/medium/shra80.png\" title=\"Today: Showers.  High near 61. Southwest wind around 14 mph.  Chance of precipitation is 80%. New precipitation amounts of less than a tenth of an inch possible. \"/></p><p class=\"short-desc\">Showers</p><p class=\"temp temp-high\">High: 61 °F</p></div></li><li class=\"forecast-tombstone\">\n",
       "<div class=\"tombstone-container\">\n",
       "<p class=\"period-name\">Tonight<br/><br/></p>\n",
       "<p><img alt=\"Tonight: A 40 percent chance of showers, mainly before midnight.  Increasing clouds, with a low around 54. Southwest wind 8 to 11 mph becoming south southeast after midnight.  New precipitation amounts of less than a tenth of an inch possible. \" class=\"forecast-icon\" src=\"newimages/medium/nshra40.png\" title=\"Tonight: A 40 percent chance of showers, mainly before midnight.  Increasing clouds, with a low around 54. Southwest wind 8 to 11 mph becoming south southeast after midnight.  New precipitation amounts of less than a tenth of an inch possible. \"/></p><p class=\"short-desc\">Chance<br/>Showers</p><p class=\"temp temp-low\">Low: 54 °F</p></div></li><li class=\"forecast-tombstone\">\n",
       "<div class=\"tombstone-container\">\n",
       "<p class=\"period-name\">Saturday<br/><br/></p>\n",
       "<p><img alt=\"Saturday: A 50 percent chance of showers.  Cloudy, with a high near 64. Southeast wind 11 to 16 mph becoming south southwest in the afternoon. Winds could gust as high as 21 mph.  New precipitation amounts between a tenth and quarter of an inch possible. \" class=\"forecast-icon\" src=\"newimages/medium/shra50.png\" title=\"Saturday: A 50 percent chance of showers.  Cloudy, with a high near 64. Southeast wind 11 to 16 mph becoming south southwest in the afternoon. Winds could gust as high as 21 mph.  New precipitation amounts between a tenth and quarter of an inch possible. \"/></p><p class=\"short-desc\">Chance<br/>Showers</p><p class=\"temp temp-high\">High: 64 °F</p></div></li><li class=\"forecast-tombstone\">\n",
       "<div class=\"tombstone-container\">\n",
       "<p class=\"period-name\">Saturday<br/>Night</p>\n",
       "<p><img alt=\"Saturday Night: A 10 percent chance of showers before midnight.  Mostly cloudy, with a low around 54. South southwest wind 7 to 14 mph. \" class=\"forecast-icon\" src=\"DualImage.php?i=nshra&amp;j=nbkn&amp;ip=10\" title=\"Saturday Night: A 10 percent chance of showers before midnight.  Mostly cloudy, with a low around 54. South southwest wind 7 to 14 mph. \"/></p><p class=\"short-desc\">Slight Chance<br/>Showers then<br/>Mostly Cloudy</p><p class=\"temp temp-low\">Low: 54 °F</p></div></li><li class=\"forecast-tombstone\">\n",
       "<div class=\"tombstone-container\">\n",
       "<p class=\"period-name\">Sunday<br/><br/></p>\n",
       "<p><img alt=\"Sunday: Mostly cloudy, with a high near 67. Southwest wind 6 to 14 mph, with gusts as high as 18 mph. \" class=\"forecast-icon\" src=\"newimages/medium/bkn.png\" title=\"Sunday: Mostly cloudy, with a high near 67. Southwest wind 6 to 14 mph, with gusts as high as 18 mph. \"/></p><p class=\"short-desc\">Mostly Cloudy</p><p class=\"temp temp-high\">High: 67 °F</p></div></li><li class=\"forecast-tombstone\">\n",
       "<div class=\"tombstone-container\">\n",
       "<p class=\"period-name\">Sunday<br/>Night</p>\n",
       "<p><img alt=\"Sunday Night: Mostly cloudy, with a low around 56.\" class=\"forecast-icon\" src=\"newimages/medium/nbkn.png\" title=\"Sunday Night: Mostly cloudy, with a low around 56.\"/></p><p class=\"short-desc\">Mostly Cloudy</p><p class=\"temp temp-low\">Low: 56 °F</p></div></li><li class=\"forecast-tombstone\">\n",
       "<div class=\"tombstone-container\">\n",
       "<p class=\"period-name\">Monday<br/><br/></p>\n",
       "<p><img alt=\"Monday: A 20 percent chance of showers.  Cloudy, with a high near 67.\" class=\"forecast-icon\" src=\"newimages/medium/shra20.png\" title=\"Monday: A 20 percent chance of showers.  Cloudy, with a high near 67.\"/></p><p class=\"short-desc\">Slight Chance<br/>Showers</p><p class=\"temp temp-high\">High: 67 °F</p></div></li><li class=\"forecast-tombstone\">\n",
       "<div class=\"tombstone-container\">\n",
       "<p class=\"period-name\">Monday<br/>Night</p>\n",
       "<p><img alt=\"Monday Night: A slight chance of showers.  Mostly cloudy, with a low around 52.\" class=\"forecast-icon\" src=\"newimages/medium/nshra.png\" title=\"Monday Night: A slight chance of showers.  Mostly cloudy, with a low around 52.\"/></p><p class=\"short-desc\">Slight Chance<br/>Showers</p><p class=\"temp temp-low\">Low: 52 °F</p></div></li><li class=\"forecast-tombstone\">\n",
       "<div class=\"tombstone-container\">\n",
       "<p class=\"period-name\">Tuesday<br/><br/></p>\n",
       "<p><img alt=\"Tuesday: Mostly sunny, with a high near 63.\" class=\"forecast-icon\" src=\"newimages/medium/sct.png\" title=\"Tuesday: Mostly sunny, with a high near 63.\"/></p><p class=\"short-desc\">Mostly Sunny</p><p class=\"temp temp-high\">High: 63 °F</p></div></li></ul></div>\n",
       "<script type=\"text/javascript\">\n",
       "// equalize forecast heights\n",
       "$(function () {\n",
       "\tvar maxh = 0;\n",
       "\t$(\".forecast-tombstone .short-desc\").each(function () {\n",
       "\t\tvar h = $(this).height();\n",
       "\t\tif (h > maxh) { maxh = h; }\n",
       "\t});\n",
       "\t$(\".forecast-tombstone .short-desc\").height(maxh);\n",
       "});\n",
       "</script> </div>\n",
       "</div>"
      ]
     },
     "execution_count": 10,
     "metadata": {},
     "output_type": "execute_result"
    }
   ],
   "source": [
    "weather = requests.get('https://forecast.weather.gov/MapClick.php?lat=37.7772&lon=-122.4168#.XKTv7PZFwdU')\n",
    "weather_page = BeautifulSoup(weather.content,'html.parser')\n",
    "days = weather_page.find(id='seven-day-forecast')\n",
    "days"
   ]
  },
  {
   "cell_type": "code",
   "execution_count": 11,
   "metadata": {},
   "outputs": [
    {
     "data": {
      "text/plain": [
       "<div class=\"tombstone-container\">\n",
       "<p class=\"period-name\">Today<br/><br/></p>\n",
       "<p><img alt=\"Today: Showers.  High near 61. Southwest wind around 14 mph.  Chance of precipitation is 80%. New precipitation amounts of less than a tenth of an inch possible. \" class=\"forecast-icon\" src=\"newimages/medium/shra80.png\" title=\"Today: Showers.  High near 61. Southwest wind around 14 mph.  Chance of precipitation is 80%. New precipitation amounts of less than a tenth of an inch possible. \"/></p><p class=\"short-desc\">Showers</p><p class=\"temp temp-high\">High: 61 °F</p></div>"
      ]
     },
     "execution_count": 11,
     "metadata": {},
     "output_type": "execute_result"
    }
   ],
   "source": [
    "forecast = weather_page.find_all(class_=\"tombstone-container\")\n",
    "Tonight = forecast[0]\n",
    "Tonight"
   ]
  },
  {
   "cell_type": "code",
   "execution_count": 12,
   "metadata": {},
   "outputs": [
    {
     "data": {
      "text/plain": [
       "'Today'"
      ]
     },
     "execution_count": 12,
     "metadata": {},
     "output_type": "execute_result"
    }
   ],
   "source": [
    "#can't apply get_text function to prettified version of script\n",
    "Day = Tonight.find(class_=\"period-name\").get_text()\n",
    "Day"
   ]
  },
  {
   "cell_type": "code",
   "execution_count": 13,
   "metadata": {},
   "outputs": [
    {
     "data": {
      "text/plain": [
       "'High: 61 °F'"
      ]
     },
     "execution_count": 13,
     "metadata": {},
     "output_type": "execute_result"
    }
   ],
   "source": [
    "Temperature = Tonight.find(class_=\"temp temp-high\").get_text()\n",
    "Temperature"
   ]
  },
  {
   "cell_type": "code",
   "execution_count": 14,
   "metadata": {},
   "outputs": [
    {
     "data": {
      "text/plain": [
       "'Today: Showers.  High near 61. Southwest wind around 14 mph.  Chance of precipitation is 80%. New precipitation amounts of less than a tenth of an inch possible. '"
      ]
     },
     "execution_count": 14,
     "metadata": {},
     "output_type": "execute_result"
    }
   ],
   "source": [
    "img = Tonight.find(\"img\")\n",
    "img['alt']"
   ]
  },
  {
   "cell_type": "code",
   "execution_count": 15,
   "metadata": {},
   "outputs": [
    {
     "data": {
      "text/plain": [
       "[<p class=\"period-name\">Today<br/><br/></p>,\n",
       " <p class=\"period-name\">Tonight<br/><br/></p>,\n",
       " <p class=\"period-name\">Saturday<br/><br/></p>,\n",
       " <p class=\"period-name\">Saturday<br/>Night</p>,\n",
       " <p class=\"period-name\">Sunday<br/><br/></p>,\n",
       " <p class=\"period-name\">Sunday<br/>Night</p>,\n",
       " <p class=\"period-name\">Monday<br/><br/></p>,\n",
       " <p class=\"period-name\">Monday<br/>Night</p>,\n",
       " <p class=\"period-name\">Tuesday<br/><br/></p>]"
      ]
     },
     "execution_count": 15,
     "metadata": {},
     "output_type": "execute_result"
    }
   ],
   "source": [
    "#prints the period name of everything with the tombstone container class\n",
    "period_tags = days.select(\".tombstone-container .period-name\")\n",
    "period_tags "
   ]
  },
  {
   "cell_type": "code",
   "execution_count": 16,
   "metadata": {},
   "outputs": [
    {
     "data": {
      "text/plain": [
       "['Today',\n",
       " 'Tonight',\n",
       " 'Saturday',\n",
       " 'SaturdayNight',\n",
       " 'Sunday',\n",
       " 'SundayNight',\n",
       " 'Monday',\n",
       " 'MondayNight',\n",
       " 'Tuesday']"
      ]
     },
     "execution_count": 16,
     "metadata": {},
     "output_type": "execute_result"
    }
   ],
   "source": [
    "def lister(liste):\n",
    "    new_list = []\n",
    "    count = 0\n",
    "    for item in liste:\n",
    "        new_list.append(liste[count].get_text())\n",
    "        count +=1\n",
    "    return new_list\n",
    "lister(period_tags)"
   ]
  },
  {
   "cell_type": "code",
   "execution_count": 29,
   "metadata": {},
   "outputs": [
    {
     "name": "stdout",
     "output_type": "stream",
     "text": [
      "['High: 61 °F', 'Low: 54 °F', 'High: 64 °F', 'Low: 54 °F', 'High: 67 °F', 'Low: 56 °F', 'High: 67 °F', 'Low: 52 °F', 'High: 63 °F']\n",
      "[61, 54, 64, 54, 67, 56, 67, 52, 63]\n",
      "[61, 64, 67, 67, 63]\n",
      "[54, 54, 56, 52]\n"
     ]
    }
   ],
   "source": [
    "#selects everything with tombstone container class and temp class\n",
    "temps_tags = days.select(\".tombstone-container .temp\")\n",
    "temp_list = lister(temps_tags)\n",
    "print(temp_list)\n",
    "temp_int = []\n",
    "count=0\n",
    "for item in temp_list:\n",
    "    temp_int.append(int(temp_list[count].split()[1]))\n",
    "    count+=1\n",
    "print(temp_int)\n",
    "highz = temp_int[::2]\n",
    "lowz = temp_int[1::2]\n",
    "print(highz)\n",
    "print(lowz)"
   ]
  },
  {
   "cell_type": "code",
   "execution_count": 18,
   "metadata": {},
   "outputs": [
    {
     "name": "stdout",
     "output_type": "stream",
     "text": [
      "[<p class=\"temp temp-high\">High: 61 °F</p>, <p class=\"temp temp-low\">Low: 54 °F</p>, <p class=\"temp temp-high\">High: 64 °F</p>, <p class=\"temp temp-low\">Low: 54 °F</p>, <p class=\"temp temp-high\">High: 67 °F</p>, <p class=\"temp temp-low\">Low: 56 °F</p>, <p class=\"temp temp-high\">High: 67 °F</p>, <p class=\"temp temp-low\">Low: 52 °F</p>, <p class=\"temp temp-high\">High: 63 °F</p>]\n"
     ]
    }
   ],
   "source": [
    "print(temps_tags)"
   ]
  },
  {
   "cell_type": "code",
   "execution_count": 36,
   "metadata": {},
   "outputs": [
    {
     "data": {
      "image/png": "[encoded data removed]",
      "text/plain": [
       "<Figure size 432x288 with 1 Axes>"
      ]
     },
     "metadata": {
      "needs_background": "light"
     },
     "output_type": "display_data"
    },
    {
     "data": {
      "text/plain": [
       "<Figure size 432x288 with 0 Axes>"
      ]
     },
     "metadata": {},
     "output_type": "display_data"
    }
   ],
   "source": [
    "#data visualization with matplotlib\n",
    "plt.xlabel('Days')\n",
    "plt.ylabel('Temperature in F')\n",
    "import matplotlib.pyplot as plt \n",
    "import numpy as np\n",
    "x = [0,1,2,3,4]\n",
    "y = highz\n",
    "plt.scatter(x,y)\n",
    "plt.show()\n",
    "fig = plt.figure()\n"
   ]
  },
  {
   "cell_type": "code",
   "execution_count": null,
   "metadata": {},
   "outputs": [],
   "source": []
  }
 ],
 "metadata": {
  "kernelspec": {
   "display_name": "Python 3",
   "language": "python",
   "name": "python3"
  },
  "language_info": {
   "codemirror_mode": {
    "name": "ipython",
    "version": 3
   },
   "file_extension": ".py",
   "mimetype": "text/x-python",
   "name": "python",
   "nbconvert_exporter": "python",
   "pygments_lexer": "ipython3",
   "version": "3.7.1"
  }
 },
 "nbformat": 4,
 "nbformat_minor": 2
}
