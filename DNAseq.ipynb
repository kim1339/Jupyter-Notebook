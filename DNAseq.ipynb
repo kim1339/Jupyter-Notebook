{
 "cells": [
  {
   "cell_type": "markdown",
   "metadata": {},
   "source": [
    "Find the most frequent k-mers in a string.\n",
    "\n",
    "Given: A DNA string Text and an integer k.\n",
    "\n",
    "Return: Most frequent k-mer in Text."
   ]
  },
  {
   "cell_type": "code",
   "execution_count": 7,
   "metadata": {},
   "outputs": [],
   "source": [
    "from collections import Counter\n",
    "\n",
    "# generate list of all possibilities, before finding most frequent k-mer\n",
    "def find(str, k):\n",
    "    word = str\n",
    "    lsf = []\n",
    "    while (len(word) >= k):\n",
    "        lsf.append(word[0:k])\n",
    "        word = word[1:]\n",
    "    return most_frequent(lsf)\n",
    "\n",
    "def most_frequent(List): \n",
    "    counter = 0\n",
    "    num = List[0] \n",
    "      \n",
    "    for i in List: \n",
    "        curr_frequency = List.count(i) \n",
    "        if (curr_frequency>= counter): \n",
    "            counter = curr_frequency \n",
    "            num = i\n",
    "    return num"
   ]
  },
  {
   "cell_type": "code",
   "execution_count": 8,
   "metadata": {},
   "outputs": [],
   "source": [
    "# def most_frequent(lst):\n",
    "#     cnt = Counter()\n",
    "#     for seq in lst:\n",
    "#         cnt[seq] += 1\n",
    "#     return cnt.most_common(1)"
   ]
  },
  {
   "cell_type": "code",
   "execution_count": 9,
   "metadata": {},
   "outputs": [
    {
     "data": {
      "text/plain": [
       "'ATA'"
      ]
     },
     "execution_count": 9,
     "metadata": {},
     "output_type": "execute_result"
    }
   ],
   "source": [
    "find(\"CGATATATCCATAG\", 3)"
   ]
  },
  {
   "cell_type": "code",
   "execution_count": 10,
   "metadata": {},
   "outputs": [
    {
     "data": {
      "text/plain": [
       "'ACTAT'"
      ]
     },
     "execution_count": 10,
     "metadata": {},
     "output_type": "execute_result"
    }
   ],
   "source": [
    "find (\"ACAACTATGCATCACTATCGGGAACTATCCT\", 5)"
   ]
  },
  {
   "cell_type": "code",
   "execution_count": 11,
   "metadata": {},
   "outputs": [
    {
     "data": {
      "text/plain": [
       "'CATG'"
      ]
     },
     "execution_count": 11,
     "metadata": {},
     "output_type": "execute_result"
    }
   ],
   "source": [
    "find (\"ACGTTGCATGTCGCATGATGCATGAGAGCT\", 4)"
   ]
  }
 ],
 "metadata": {
  "kernelspec": {
   "display_name": "Python 3",
   "language": "python",
   "name": "python3"
  },
  "language_info": {
   "codemirror_mode": {
    "name": "ipython",
    "version": 3
   },
   "file_extension": ".py",
   "mimetype": "text/x-python",
   "name": "python",
   "nbconvert_exporter": "python",
   "pygments_lexer": "ipython3",
   "version": "3.6.5"
  }
 },
 "nbformat": 4,
 "nbformat_minor": 2
}
