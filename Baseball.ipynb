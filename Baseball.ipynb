{
 "cells": [
  {
   "cell_type": "code",
   "execution_count": 2,
   "metadata": {},
   "outputs": [],
   "source": [
    "%matplotlib inline\n",
    "import numpy as np\n",
    "import pandas as pd\n",
    "import matplotlib.pyplot as plt\n",
    "salaries_df = pd.read_csv(r'C:\\Users\\Kimia\\Downloads\\Salaries.csv')\n",
    "teams_df = pd.read_csv(r'C:\\Users\\Kimia\\Downloads\\Teams.csv')"
   ]
  },
  {
   "cell_type": "code",
   "execution_count": 3,
   "metadata": {},
   "outputs": [
    {
     "name": "stdout",
     "output_type": "stream",
     "text": [
      "   yearID teamID lgID   playerID   salary\n",
      "0    1985    BAL   AL  murraed02  1472819\n",
      "1    1985    BAL   AL   lynnfr01  1090000\n",
      "2    1985    BAL   AL  ripkeca01   800000\n",
      "3    1985    BAL   AL   lacyle01   725000\n",
      "4    1985    BAL   AL  flanami01   641667\n",
      "   yearID lgID teamID franchID divID  Rank   G  Ghome   W   L     ...       \\\n",
      "0    1871  NaN    PH1      PNA   NaN     1  28    NaN  21   7     ...        \n",
      "1    1871  NaN    CH1      CNA   NaN     2  28    NaN  19   9     ...        \n",
      "2    1871  NaN    BS1      BNA   NaN     3  31    NaN  20  10     ...        \n",
      "3    1871  NaN    WS3      OLY   NaN     4  32    NaN  15  15     ...        \n",
      "4    1871  NaN    NY2      NNA   NaN     5  33    NaN  16  17     ...        \n",
      "\n",
      "   DP    FP                     name                      park  attendance  \\\n",
      "0 NaN  0.84   Philadelphia Athletics  Jefferson Street Grounds         NaN   \n",
      "1 NaN  0.82  Chicago White Stockings   Union Base-Ball Grounds         NaN   \n",
      "2 NaN  0.83     Boston Red Stockings       South End Grounds I         NaN   \n",
      "3 NaN  0.85      Washington Olympics          Olympics Grounds         NaN   \n",
      "4 NaN  0.83         New York Mutuals  Union Grounds (Brooklyn)         NaN   \n",
      "\n",
      "   BPF  PPF  teamIDBR  teamIDlahman45  teamIDretro  \n",
      "0  102   98       ATH             PH1          PH1  \n",
      "1  104  102       CHI             CH1          CH1  \n",
      "2  103   98       BOS             BS1          BS1  \n",
      "3   94   98       OLY             WS3          WS3  \n",
      "4   90   88       NYU             NY2          NY2  \n",
      "\n",
      "[5 rows x 48 columns]\n"
     ]
    }
   ],
   "source": [
    "print(salaries_df.head(5))\n",
    "print(teams_df.head(5))"
   ]
  },
  {
   "cell_type": "code",
   "execution_count": 7,
   "metadata": {
    "scrolled": true
   },
   "outputs": [
    {
     "name": "stdout",
     "output_type": "stream",
     "text": [
      "teamID\n",
      "ANA    13166667\n",
      "ARI    16000000\n",
      "ATL    16061802\n",
      "BAL    17000000\n",
      "BOS    22500000\n",
      "CAL     5375000\n",
      "CHA    17000000\n",
      "CHN    19000000\n",
      "CIN    18910655\n",
      "CLE    15000000\n",
      "COL    20275000\n",
      "DET    23000000\n",
      "FLO    14936667\n",
      "HOU    19369019\n",
      "KCA    13000000\n",
      "LAA    26187500\n",
      "LAN    23854494\n",
      "MIA    19000000\n",
      "MIL    15500000\n",
      "MIN    23000000\n",
      "ML4     5875000\n",
      "MON    11500000\n",
      "NYA    33000000\n",
      "NYN    23145011\n",
      "OAK    13500000\n",
      "PHI    25000000\n",
      "PIT    16500000\n",
      "SDN    15505142\n",
      "SEA    20557143\n",
      "SFN    22250000\n",
      "SLN    16333327\n",
      "TBA    10125000\n",
      "TEX    22000000\n",
      "TOR    19700000\n",
      "WAS    16571429\n",
      "Name: salary, dtype: int64\n"
     ]
    },
    {
     "ename": "ValueError",
     "evalue": "Can only compare identically-labeled DataFrame objects",
     "output_type": "error",
     "traceback": [
      "\u001b[1;31m---------------------------------------------------------------------------\u001b[0m",
      "\u001b[1;31mValueError\u001b[0m                                Traceback (most recent call last)",
      "\u001b[1;32m<ipython-input-7-90528f5692ff>\u001b[0m in \u001b[0;36m<module>\u001b[1;34m()\u001b[0m\n\u001b[0;32m      2\u001b[0m \u001b[0mteamID_list\u001b[0m \u001b[1;33m=\u001b[0m \u001b[1;33m[\u001b[0m\u001b[1;33m]\u001b[0m\u001b[1;33m\u001b[0m\u001b[0m\n\u001b[0;32m      3\u001b[0m \u001b[1;32mfor\u001b[0m \u001b[0mrow\u001b[0m \u001b[1;32min\u001b[0m \u001b[0msalaries_df\u001b[0m\u001b[1;33m:\u001b[0m\u001b[1;33m\u001b[0m\u001b[0m\n\u001b[1;32m----> 4\u001b[1;33m     \u001b[1;32mif\u001b[0m \u001b[0mrow\u001b[0m\u001b[1;33m[\u001b[0m\u001b[1;36m1\u001b[0m\u001b[1;33m]\u001b[0m \u001b[1;32mnot\u001b[0m \u001b[1;32min\u001b[0m \u001b[0mteamID_list\u001b[0m\u001b[1;33m:\u001b[0m\u001b[1;33m\u001b[0m\u001b[0m\n\u001b[0m\u001b[0;32m      5\u001b[0m         \u001b[0mteamID_list\u001b[0m\u001b[1;33m.\u001b[0m\u001b[0mappend\u001b[0m\u001b[1;33m(\u001b[0m\u001b[0mrow\u001b[0m\u001b[1;33m[\u001b[0m\u001b[1;36m1\u001b[0m\u001b[1;33m]\u001b[0m\u001b[1;33m)\u001b[0m\u001b[1;33m\u001b[0m\u001b[0m\n\u001b[0;32m      6\u001b[0m \u001b[0mprint\u001b[0m\u001b[1;33m(\u001b[0m\u001b[0mteamID_list\u001b[0m\u001b[1;33m)\u001b[0m\u001b[1;33m\u001b[0m\u001b[0m\n",
      "\u001b[1;32m~\\Anaconda3\\lib\\site-packages\\pandas\\core\\ops.py\u001b[0m in \u001b[0;36mf\u001b[1;34m(self, other)\u001b[0m\n\u001b[0;32m   1581\u001b[0m             \u001b[1;31m# Another DataFrame\u001b[0m\u001b[1;33m\u001b[0m\u001b[1;33m\u001b[0m\u001b[0m\n\u001b[0;32m   1582\u001b[0m             \u001b[1;32mif\u001b[0m \u001b[1;32mnot\u001b[0m \u001b[0mself\u001b[0m\u001b[1;33m.\u001b[0m\u001b[0m_indexed_same\u001b[0m\u001b[1;33m(\u001b[0m\u001b[0mother\u001b[0m\u001b[1;33m)\u001b[0m\u001b[1;33m:\u001b[0m\u001b[1;33m\u001b[0m\u001b[0m\n\u001b[1;32m-> 1583\u001b[1;33m                 raise ValueError('Can only compare identically-labeled '\n\u001b[0m\u001b[0;32m   1584\u001b[0m                                  'DataFrame objects')\n\u001b[0;32m   1585\u001b[0m             \u001b[1;32mreturn\u001b[0m \u001b[0mself\u001b[0m\u001b[1;33m.\u001b[0m\u001b[0m_compare_frame\u001b[0m\u001b[1;33m(\u001b[0m\u001b[0mother\u001b[0m\u001b[1;33m,\u001b[0m \u001b[0mfunc\u001b[0m\u001b[1;33m,\u001b[0m \u001b[0mstr_rep\u001b[0m\u001b[1;33m)\u001b[0m\u001b[1;33m\u001b[0m\u001b[0m\n",
      "\u001b[1;31mValueError\u001b[0m: Can only compare identically-labeled DataFrame objects"
     ]
    }
   ],
   "source": [
    "print(salaries_df['salary'].max())\n",
    "teamID_list = []\n",
    "for row in salaries_df:\n",
    "    if row[1] not in teamID_list:\n",
    "        teamID_list.append(row[1])\n",
    "print(teamID_list)\n"
   ]
  },
  {
   "cell_type": "code",
   "execution_count": null,
   "metadata": {},
   "outputs": [],
   "source": []
  }
 ],
 "metadata": {
  "kernelspec": {
   "display_name": "Python 3",
   "language": "python",
   "name": "python3"
  },
  "language_info": {
   "codemirror_mode": {
    "name": "ipython",
    "version": 3
   },
   "file_extension": ".py",
   "mimetype": "text/x-python",
   "name": "python",
   "nbconvert_exporter": "python",
   "pygments_lexer": "ipython3",
   "version": "3.6.5"
  }
 },
 "nbformat": 4,
 "nbformat_minor": 2
}
