{
 "cells": [
  {
   "cell_type": "markdown",
   "metadata": {},
   "source": [
    "# Can AI help with medical imaging?\n"
   ]
  },
  {
   "cell_type": "code",
   "execution_count": 9,
   "metadata": {},
   "outputs": [
    {
     "name": "stdout",
     "output_type": "stream",
     "text": [
      "Feature Names\n",
      "['mean radius' 'mean texture' 'mean perimeter' 'mean area'\n",
      " 'mean smoothness' 'mean compactness' 'mean concavity'\n",
      " 'mean concave points' 'mean symmetry' 'mean fractal dimension'\n",
      " 'radius error' 'texture error' 'perimeter error' 'area error'\n",
      " 'smoothness error' 'compactness error' 'concavity error'\n",
      " 'concave points error' 'symmetry error' 'fractal dimension error'\n",
      " 'worst radius' 'worst texture' 'worst perimeter' 'worst area'\n",
      " 'worst smoothness' 'worst compactness' 'worst concavity'\n",
      " 'worst concave points' 'worst symmetry' 'worst fractal dimension']\n",
      "Names of Classes\n",
      "['malignant' 'benign']\n"
     ]
    }
   ],
   "source": [
    "#For this classification project, I imported a toy dataset from scikit-learn (so I didn't download any external files from other websites)\n",
    "import sklearn\n",
    "from sklearn import datasets\n",
    "\n",
    "cancer = datasets.load_breast_cancer() # Load the breast cancer diagnostic dataset from scikit-learn\n",
    "\n",
    "print(\"Names of Features\")\n",
    "print(cancer.feature_names) \n",
    "\n",
    "print(\"Names of Classes\")\n",
    "print(cancer.target_names)\n",
    "\n",
    "# We find that either a tumor is 'malignant' or it is 'benign'."
   ]
  },
  {
   "cell_type": "markdown",
   "metadata": {},
   "source": [
    "# Descision Tree Classifier\n",
    "Using the decision tree model which, given a supposed breast cancer tumor, we can label it as malignant or benign. Descision tree classifiers. A decision tree is a tree-like model where each node represents a feature, each link represents a decision and each leaf represents an outcome (label)."
   ]
  },
  {
   "cell_type": "code",
   "execution_count": 12,
   "metadata": {
    "scrolled": true
   },
   "outputs": [
    {
     "data": {
      "text/plain": [
       "array([0, 1, 1, 0, 1, 1, 1, 0, 1, 0, 0, 1, 1, 1, 0, 1, 1, 0, 1, 0, 0, 1,\n",
       "       1, 1, 0, 1, 1, 0, 0, 1, 0, 1, 0, 1, 1, 1, 0, 1, 0, 1, 0, 0, 1, 1,\n",
       "       0, 1, 0, 1, 0, 0, 1, 0, 1, 0, 1, 0, 1, 1, 1, 0, 1, 1, 0, 1, 1, 0,\n",
       "       1, 1, 1, 0, 0, 1, 0, 1, 1, 1, 0, 1, 1, 0, 0, 1, 0, 0, 1, 0, 0, 0,\n",
       "       0, 0, 1, 1, 1, 1, 1, 0, 0, 1, 1, 1, 1, 1, 1, 0, 0, 0, 0, 1, 0, 0,\n",
       "       1, 1, 0, 0])"
      ]
     },
     "execution_count": 12,
     "metadata": {},
     "output_type": "execute_result"
    }
   ],
   "source": [
    "from sklearn.tree import DecisionTreeClassifier\n",
    "from sklearn.model_selection import train_test_split\n",
    "\n",
    "# Create the training and testing datasets (you must have both training and testing data to create a machine learning classification model)\n",
    "X = cancer.data # X, what we're using to predict, aka the features like tumor texture, radius, etc.\n",
    "y = cancer.target # y, what we're predicting, aka the classes/labels (malignant or benign)\n",
    "\n",
    "X_train, X_test, y_train, y_test = train_test_split(X, y, test_size=0.20) # We split the data into 'train' and 'test', test size is 20% of the data\n",
    "\n",
    "# Train a classifier\n",
    "classifier = DecisionTreeClassifier()\n",
    "classifier.fit(X_train, y_train) # Put these into the classifier\n",
    "\n",
    "# Use the trained classifier to predict whether a new piece of data is benign or malignant\n",
    "prediction = classifier.predict(X_test)\n",
    "\n",
    "# Note that these predictions aren't necessarily correct, 1 is cancer (true), 0 is not (false)\n",
    "prediction"
   ]
  },
  {
   "cell_type": "code",
   "execution_count": 29,
   "metadata": {},
   "outputs": [
    {
     "name": "stdout",
     "output_type": "stream",
     "text": [
      "108\n",
      "114\n",
      "0.9473684210526315\n"
     ]
    }
   ],
   "source": [
    "correct = 0 \n",
    "for i in range(0, len(y_test)): # Iterate through all of our predictions\n",
    "        if (y_test[i] == prediction[i]):\n",
    "            correct += 1 \n",
    "\n",
    "num_correct = correct\n",
    "num_pred = (len(y_test))\n",
    "accuracy = num_correct / num_pred\n",
    "\n",
    "print(num_correct)\n",
    "print(num_pred)\n",
    "print(accuracy)"
   ]
  }
 ],
 "metadata": {
  "kernelspec": {
   "display_name": "Python 3",
   "language": "python",
   "name": "python3"
  },
  "language_info": {
   "codemirror_mode": {
    "name": "ipython",
    "version": 3
   },
   "file_extension": ".py",
   "mimetype": "text/x-python",
   "name": "python",
   "nbconvert_exporter": "python",
   "pygments_lexer": "ipython3",
   "version": "3.6.5"
  }
 },
 "nbformat": 4,
 "nbformat_minor": 2
}
